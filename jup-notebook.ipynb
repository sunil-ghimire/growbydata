{
 "cells": [
  {
   "cell_type": "code",
   "execution_count": 1,
   "id": "da568904",
   "metadata": {},
   "outputs": [],
   "source": [
    "from bs4 import BeautifulSoup as bs\n",
    "import requests\n",
    "import pandas as pd\n",
    "\n",
    "URL = 'https://covid19.who.int/region/searo/country/np'\n",
    "r = requests.get(URL)\n",
    "soup = bs(r.text, 'html.parser')"
   ]
  },
  {
   "cell_type": "code",
   "execution_count": 2,
   "id": "d2c4b1c6",
   "metadata": {},
   "outputs": [],
   "source": [
    "confirmed_cases=soup.find_all('span',{'data-id':'metric'})[0].text"
   ]
  },
  {
   "cell_type": "code",
   "execution_count": 3,
   "id": "d682d87c",
   "metadata": {},
   "outputs": [
    {
     "name": "stdout",
     "output_type": "stream",
     "text": [
      "825,445 11,570\n"
     ]
    }
   ],
   "source": [
    "total_death =soup.find_all('span',{'data-id':'metric'})[1].text\n",
    "print(confirmed_cases,total_death)"
   ]
  },
  {
   "cell_type": "code",
   "execution_count": 4,
   "id": "01e97ae2",
   "metadata": {},
   "outputs": [],
   "source": [
    "URL = 'https://covid19.who.int/table'\n",
    "r = requests.get(URL)\n",
    "soup = bs(r.text, 'html.parser')"
   ]
  },
  {
   "cell_type": "code",
   "execution_count": 5,
   "id": "c478ec8f",
   "metadata": {},
   "outputs": [],
   "source": [
    "country_div = soup.find('div',{'class':'tbody'}).find_all('div',{'role':'row'})"
   ]
  },
  {
   "cell_type": "code",
   "execution_count": 6,
   "id": "5c4d8e2c",
   "metadata": {},
   "outputs": [],
   "source": [
    "country_div = country_div[2:12][::-1]"
   ]
  },
  {
   "cell_type": "code",
   "execution_count": 7,
   "id": "9793d51f",
   "metadata": {},
   "outputs": [],
   "source": [
    "\n",
    "master_list = []\n",
    "for div in country_div:\n",
    "    country_name = div.find('div',{'role':'cell'}).text\n",
    "    total_cumulative = div.find_all('div',{'role':'cell'})[1].text\n",
    "    data = {\n",
    "        'country':country_name,\n",
    "        'total_cumulative':total_cumulative\n",
    "    }\n",
    "    master_list.append(data)"
   ]
  },
  {
   "cell_type": "code",
   "execution_count": 8,
   "id": "03938dce",
   "metadata": {},
   "outputs": [
    {
     "data": {
      "text/plain": [
       "[{'country': 'Spain', 'total_cumulative': '5,422,168'},\n",
       " {'country': 'Iran (Islamic Republic of)', 'total_cumulative': '6,160,303'},\n",
       " {'country': 'Germany', 'total_cumulative': '6,721,375'},\n",
       " {'country': 'France', 'total_cumulative': '8,217,565'},\n",
       " {'country': 'Turkey', 'total_cumulative': '9,118,424'},\n",
       " {'country': 'Russian Federation', 'total_cumulative': '10,159,389'},\n",
       " {'country': 'The United Kingdom', 'total_cumulative': '11,097,855'},\n",
       " {'country': 'Brazil', 'total_cumulative': '22,201,221'},\n",
       " {'country': 'India', 'total_cumulative': '34,726,049'},\n",
       " {'country': 'United States of America', 'total_cumulative': '49,833,416'}]"
      ]
     },
     "execution_count": 8,
     "metadata": {},
     "output_type": "execute_result"
    }
   ],
   "source": [
    "master_list"
   ]
  },
  {
   "cell_type": "code",
   "execution_count": null,
   "id": "cd665ed7",
   "metadata": {},
   "outputs": [],
   "source": []
  }
 ],
 "metadata": {
  "kernelspec": {
   "display_name": "Python 3.8.10 64-bit ('myvenv': venv)",
   "language": "python",
   "name": "python3810jvsc74a57bd0bf3c7736636993ace18362a9d5b023b675279893757c397e5b86dc5bd8fc0846"
  },
  "language_info": {
   "codemirror_mode": {
    "name": "ipython",
    "version": 3
   },
   "file_extension": ".py",
   "mimetype": "text/x-python",
   "name": "python",
   "nbconvert_exporter": "python",
   "pygments_lexer": "ipython3",
   "version": "3.8.10"
  }
 },
 "nbformat": 4,
 "nbformat_minor": 5
}
